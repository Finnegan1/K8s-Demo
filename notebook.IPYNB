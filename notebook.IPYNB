{
 "cells": [
  {
   "cell_type": "markdown",
   "metadata": {},
   "source": [
    "# Kubernetes Autoscaling Demo with Kind\n",
    "Project by Martin, Jan and Fynn\n",
    "\n",
    "This notebook contains the step-by-step commands to set up and demonstrate\n",
    "Kubernetes autoscaling using Kind (Kubernetes in Docker)."
   ]
  },
  {
   "cell_type": "code",
   "execution_count": null,
   "metadata": {},
   "outputs": [],
   "source": [
    "# Step 1: Set up Kind cluster\n",
    "!kind create cluster --config three_node_config.yaml"
   ]
  },
  {
   "cell_type": "code",
   "execution_count": null,
   "metadata": {},
   "outputs": [],
   "source": [
    "# Step 2: Build and load Docker image\n",
    "!docker build -t webapp:latest .\n",
    "!kind load docker-image webapp:latest"
   ]
  },
  {
   "cell_type": "code",
   "execution_count": null,
   "metadata": {},
   "outputs": [],
   "source": [
    "# Step 3: Apply Kubernetes configurations\n",
    "!kubectl apply -f metrics-server.yaml\n",
    "!kubectl apply -f webapp-deployment.yaml\n",
    "!kubectl apply -f webapp-hpa.yaml"
   ]
  },
  {
   "cell_type": "code",
   "execution_count": null,
   "metadata": {},
   "outputs": [],
   "source": [
    "# Step 4: Wait for pods to be ready\n",
    "!kubectl wait --for=condition=Ready pods --all --timeout=300s"
   ]
  },
  {
   "cell_type": "code",
   "execution_count": null,
   "metadata": {},
   "outputs": [],
   "source": [
    "# Step 5: Check the status of pods\n",
    "!kubectl get pods"
   ]
  },
  {
   "cell_type": "code",
   "execution_count": null,
   "metadata": {},
   "outputs": [],
   "source": [
    "# Step 6: Check the status of services\n",
    "!kubectl get services"
   ]
  },
  {
   "cell_type": "markdown",
   "metadata": {},
   "source": [
    "## Kubernetes Dashboard Installation"
   ]
  },
  {
   "cell_type": "code",
   "execution_count": null,
   "metadata": {},
   "outputs": [],
   "source": [
    "# Step 7: Deploy Kubernetes Dashboard\n",
    "!kubectl apply -f https://raw.githubusercontent.com/kubernetes/dashboard/v2.7.0/aio/deploy/recommended.yaml"
   ]
  },
  {
   "cell_type": "code",
   "execution_count": null,
   "metadata": {},
   "outputs": [],
   "source": [
    "# Step 8: Create a Service Account and ClusterRoleBinding\n",
    "!kubectl create serviceaccount dashboard-admin -n kubernetes-dashboard\n",
    "!kubectl create clusterrolebinding dashboard-admin-binding \\\n",
    "  --clusterrole=cluster-admin \\\n",
    "  --serviceaccount=kubernetes-dashboard:dashboard-admin"
   ]
  },
  {
   "cell_type": "code",
   "execution_count": null,
   "metadata": {},
   "outputs": [],
   "source": [
    "# Step 9: Get the Access Token\n",
    "print(\"Access Token for Kubernetes Dashboard:\")\n",
    "!kubectl -n kubernetes-dashboard create token dashboard-admin"
   ]
  },
  {
   "cell_type": "markdown",
   "metadata": {},
   "source": [
    "To access the Kubernetes Dashboard:\n",
    "1. Run `kubectl proxy` in a separate terminal\n",
    "2. Open the following URL in your browser:\n",
    "   http://localhost:8001/api/v1/namespaces/kubernetes-dashboard/services/https:kubernetes-dashboard:/proxy/\n",
    "3. Use the token printed above to log in"
   ]
  },
  {
   "cell_type": "markdown",
   "metadata": {},
   "source": [
    "## Autoscaling Demo"
   ]
  },
  {
   "cell_type": "code",
   "execution_count": null,
   "metadata": {},
   "outputs": [],
   "source": [
    "# Step 10: Set up port forwarding (run this in a separate terminal)\n",
    "# !kubectl port-forward service/webapp-service 8080:80"
   ]
  },
  {
   "cell_type": "code",
   "execution_count": null,
   "metadata": {},
   "outputs": [],
   "source": [
    "# Step 11: Monitor HPA (run this in a separate terminal)\n",
    "# !watch -n 1 kubectl get hpa webapp-hpa"
   ]
  },
  {
   "cell_type": "code",
   "execution_count": null,
   "metadata": {},
   "outputs": [],
   "source": [
    "# Step 12: Generate load (run this in a separate terminal)\n",
    "# !ab -n 1000 -c 10 http://localhost:8080/\n",
    "# => full load with max 10 pods\n",
    "\n",
    "# !ab -n 1000 -c 3 http://localhost:8080/\n",
    "# => 7 pods 30% cpu"
   ]
  },
  {
   "cell_type": "code",
   "execution_count": null,
   "metadata": {},
   "outputs": [],
   "source": [
    "# Step 13: Check the status of pods again to see scaling\n",
    "!kubectl get pods\n",
    "\n",
    "# Step 14: Check HPA status\n",
    "!kubectl get hpa\n",
    "\n",
    "# Step 15: Clean up (uncomment when ready to delete the cluster)\n",
    "# !kind delete cluster"
   ]
  }
 ],
 "metadata": {
  "kernelspec": {
   "display_name": ".venv",
   "language": "python",
   "name": "python3"
  },
  "language_info": {
   "codemirror_mode": {
    "name": "ipython",
    "version": 3
   },
   "file_extension": ".py",
   "mimetype": "text/x-python",
   "name": "python",
   "nbconvert_exporter": "python",
   "pygments_lexer": "ipython3",
   "version": "3.11.8"
  }
 },
 "nbformat": 4,
 "nbformat_minor": 2
}
